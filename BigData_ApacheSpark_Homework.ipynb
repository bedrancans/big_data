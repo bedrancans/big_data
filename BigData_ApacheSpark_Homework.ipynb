{
  "nbformat": 4,
  "nbformat_minor": 0,
  "metadata": {
    "colab": {
      "provenance": [],
      "include_colab_link": true
    },
    "kernelspec": {
      "name": "python3",
      "display_name": "Python 3"
    },
    "language_info": {
      "name": "python"
    }
  },
  "cells": [
    {
      "cell_type": "markdown",
      "metadata": {
        "id": "view-in-github",
        "colab_type": "text"
      },
      "source": [
        "<a href=\"https://colab.research.google.com/github/bedrancans/big_data/blob/main/BigData_ApacheSpark_Homework.ipynb\" target=\"_parent\"><img src=\"https://colab.research.google.com/assets/colab-badge.svg\" alt=\"Open In Colab\"/></a>"
      ]
    },
    {
      "cell_type": "code",
      "execution_count": 2,
      "metadata": {
        "id": "iN8HM30fsHjZ",
        "colab": {
          "base_uri": "https://localhost:8080/"
        },
        "outputId": "b4b3d60a-f615-45dc-96f8-54b89346bc2b"
      },
      "outputs": [
        {
          "output_type": "stream",
          "name": "stdout",
          "text": [
            "spark-3.2.1-bin-had 100%[===================>] 287.03M  67.0MB/s    in 4.4s    \n",
            "\u001b[2K     \u001b[90m━━━━━━━━━━━━━━━━━━━━━━━━━━━━━━━━━━━━━━━━\u001b[0m \u001b[32m281.4/281.4 MB\u001b[0m \u001b[31m4.3 MB/s\u001b[0m eta \u001b[36m0:00:00\u001b[0m\n",
            "\u001b[?25h  Preparing metadata (setup.py) ... \u001b[?25l\u001b[?25hdone\n",
            "\u001b[2K     \u001b[90m━━━━━━━━━━━━━━━━━━━━━━━━━━━━━━━━━━━━━━━━\u001b[0m \u001b[32m199.0/199.0 kB\u001b[0m \u001b[31m20.0 MB/s\u001b[0m eta \u001b[36m0:00:00\u001b[0m\n",
            "\u001b[?25h  Building wheel for pyspark (setup.py) ... \u001b[?25l\u001b[?25hdone\n",
            "  Preparing metadata (setup.py) ... \u001b[?25l\u001b[?25hdone\n",
            "  Building wheel for delta (setup.py) ... \u001b[?25l\u001b[?25hdone\n"
          ]
        }
      ],
      "source": [
        "!apt-get -qq update > /tmp/apt.out\n",
        "!apt-get install -y -qq openjdk-11-jdk-headless\n",
        "!(wget -q --show-progress -nc https://archive.apache.org/dist/spark/spark-3.2.1/spark-3.2.1-bin-hadoop3.2.tgz)\n",
        "!tar xf spark-3.2.1-bin-hadoop3.2.tgz\n",
        "try:\n",
        "  import pyspark, findspark, delta\n",
        "except:\n",
        "  %pip install -q --upgrade pyspark==3.2.1\n",
        "  %pip install -q findspark\n",
        "  %pip install -q delta"
      ]
    },
    {
      "cell_type": "code",
      "source": [
        "!pip install gcsfs"
      ],
      "metadata": {
        "colab": {
          "base_uri": "https://localhost:8080/"
        },
        "id": "mrzkPZv3yM2P",
        "outputId": "7faec88e-f04a-41f6-e340-295d1fa4e515"
      },
      "execution_count": 3,
      "outputs": [
        {
          "output_type": "stream",
          "name": "stdout",
          "text": [
            "Requirement already satisfied: gcsfs in /usr/local/lib/python3.10/dist-packages (2023.6.0)\n",
            "Requirement already satisfied: aiohttp!=4.0.0a0,!=4.0.0a1 in /usr/local/lib/python3.10/dist-packages (from gcsfs) (3.9.3)\n",
            "Requirement already satisfied: decorator>4.1.2 in /usr/local/lib/python3.10/dist-packages (from gcsfs) (4.4.2)\n",
            "Requirement already satisfied: fsspec==2023.6.0 in /usr/local/lib/python3.10/dist-packages (from gcsfs) (2023.6.0)\n",
            "Requirement already satisfied: google-auth>=1.2 in /usr/local/lib/python3.10/dist-packages (from gcsfs) (2.27.0)\n",
            "Requirement already satisfied: google-auth-oauthlib in /usr/local/lib/python3.10/dist-packages (from gcsfs) (1.2.0)\n",
            "Requirement already satisfied: google-cloud-storage in /usr/local/lib/python3.10/dist-packages (from gcsfs) (2.8.0)\n",
            "Requirement already satisfied: requests in /usr/local/lib/python3.10/dist-packages (from gcsfs) (2.31.0)\n",
            "Requirement already satisfied: aiosignal>=1.1.2 in /usr/local/lib/python3.10/dist-packages (from aiohttp!=4.0.0a0,!=4.0.0a1->gcsfs) (1.3.1)\n",
            "Requirement already satisfied: attrs>=17.3.0 in /usr/local/lib/python3.10/dist-packages (from aiohttp!=4.0.0a0,!=4.0.0a1->gcsfs) (23.2.0)\n",
            "Requirement already satisfied: frozenlist>=1.1.1 in /usr/local/lib/python3.10/dist-packages (from aiohttp!=4.0.0a0,!=4.0.0a1->gcsfs) (1.4.1)\n",
            "Requirement already satisfied: multidict<7.0,>=4.5 in /usr/local/lib/python3.10/dist-packages (from aiohttp!=4.0.0a0,!=4.0.0a1->gcsfs) (6.0.5)\n",
            "Requirement already satisfied: yarl<2.0,>=1.0 in /usr/local/lib/python3.10/dist-packages (from aiohttp!=4.0.0a0,!=4.0.0a1->gcsfs) (1.9.4)\n",
            "Requirement already satisfied: async-timeout<5.0,>=4.0 in /usr/local/lib/python3.10/dist-packages (from aiohttp!=4.0.0a0,!=4.0.0a1->gcsfs) (4.0.3)\n",
            "Requirement already satisfied: cachetools<6.0,>=2.0.0 in /usr/local/lib/python3.10/dist-packages (from google-auth>=1.2->gcsfs) (5.3.3)\n",
            "Requirement already satisfied: pyasn1-modules>=0.2.1 in /usr/local/lib/python3.10/dist-packages (from google-auth>=1.2->gcsfs) (0.3.0)\n",
            "Requirement already satisfied: rsa<5,>=3.1.4 in /usr/local/lib/python3.10/dist-packages (from google-auth>=1.2->gcsfs) (4.9)\n",
            "Requirement already satisfied: requests-oauthlib>=0.7.0 in /usr/local/lib/python3.10/dist-packages (from google-auth-oauthlib->gcsfs) (1.4.0)\n",
            "Requirement already satisfied: google-api-core!=2.0.*,!=2.1.*,!=2.2.*,!=2.3.0,<3.0.0dev,>=1.31.5 in /usr/local/lib/python3.10/dist-packages (from google-cloud-storage->gcsfs) (2.11.1)\n",
            "Requirement already satisfied: google-cloud-core<3.0dev,>=2.3.0 in /usr/local/lib/python3.10/dist-packages (from google-cloud-storage->gcsfs) (2.3.3)\n",
            "Requirement already satisfied: google-resumable-media>=2.3.2 in /usr/local/lib/python3.10/dist-packages (from google-cloud-storage->gcsfs) (2.7.0)\n",
            "Requirement already satisfied: charset-normalizer<4,>=2 in /usr/local/lib/python3.10/dist-packages (from requests->gcsfs) (3.3.2)\n",
            "Requirement already satisfied: idna<4,>=2.5 in /usr/local/lib/python3.10/dist-packages (from requests->gcsfs) (3.6)\n",
            "Requirement already satisfied: urllib3<3,>=1.21.1 in /usr/local/lib/python3.10/dist-packages (from requests->gcsfs) (2.0.7)\n",
            "Requirement already satisfied: certifi>=2017.4.17 in /usr/local/lib/python3.10/dist-packages (from requests->gcsfs) (2024.2.2)\n",
            "Requirement already satisfied: googleapis-common-protos<2.0.dev0,>=1.56.2 in /usr/local/lib/python3.10/dist-packages (from google-api-core!=2.0.*,!=2.1.*,!=2.2.*,!=2.3.0,<3.0.0dev,>=1.31.5->google-cloud-storage->gcsfs) (1.63.0)\n",
            "Requirement already satisfied: protobuf!=3.20.0,!=3.20.1,!=4.21.0,!=4.21.1,!=4.21.2,!=4.21.3,!=4.21.4,!=4.21.5,<5.0.0.dev0,>=3.19.5 in /usr/local/lib/python3.10/dist-packages (from google-api-core!=2.0.*,!=2.1.*,!=2.2.*,!=2.3.0,<3.0.0dev,>=1.31.5->google-cloud-storage->gcsfs) (3.20.3)\n",
            "Requirement already satisfied: google-crc32c<2.0dev,>=1.0 in /usr/local/lib/python3.10/dist-packages (from google-resumable-media>=2.3.2->google-cloud-storage->gcsfs) (1.5.0)\n",
            "Requirement already satisfied: pyasn1<0.6.0,>=0.4.6 in /usr/local/lib/python3.10/dist-packages (from pyasn1-modules>=0.2.1->google-auth>=1.2->gcsfs) (0.5.1)\n",
            "Requirement already satisfied: oauthlib>=3.0.0 in /usr/local/lib/python3.10/dist-packages (from requests-oauthlib>=0.7.0->google-auth-oauthlib->gcsfs) (3.2.2)\n"
          ]
        }
      ]
    },
    {
      "cell_type": "code",
      "source": [
        "!(wget -O /content/spark-3.2.1-bin-hadoop3.2/jars/gcs-connector-hadoop2-latest.jar  -q https://storage.googleapis.com/hadoop-lib/gcs/gcs-connector-hadoop3.2-latest.jar)"
      ],
      "metadata": {
        "id": "_NQybIdovnH7"
      },
      "execution_count": 4,
      "outputs": []
    },
    {
      "cell_type": "code",
      "source": [
        "import findspark\n",
        "import pyspark\n",
        "import os\n",
        "from pyspark.sql.functions import *\n",
        "\n",
        "os.environ[\"JAVA_HOME\"] = \"/usr/lib/jvm/java-11-openjdk-amd64\"\n",
        "os.environ[\"SPARK_HOME\"] = \"/content/spark-3.2.1-bin-hadoop3.2\"\n",
        "\n",
        "findspark.init()\n",
        "MAX_MEMORY=\"8g\"\n",
        "\n",
        "spark = (pyspark.sql.SparkSession.builder.appName(\"MyApp\")\n",
        "    .config(\"spark.executor.memory\", MAX_MEMORY)\n",
        "    .config(\"spark.driver.memory\", MAX_MEMORY)\n",
        "    .getOrCreate()\n",
        "    )\n",
        "\n",
        "spark"
      ],
      "metadata": {
        "colab": {
          "base_uri": "https://localhost:8080/",
          "height": 221
        },
        "id": "RofOJZjTsPPK",
        "outputId": "1b60fd26-ecdb-4681-817c-e99b8cbca656"
      },
      "execution_count": 5,
      "outputs": [
        {
          "output_type": "execute_result",
          "data": {
            "text/plain": [
              "<pyspark.sql.session.SparkSession at 0x7b7a6404ed10>"
            ],
            "text/html": [
              "\n",
              "            <div>\n",
              "                <p><b>SparkSession - in-memory</b></p>\n",
              "                \n",
              "        <div>\n",
              "            <p><b>SparkContext</b></p>\n",
              "\n",
              "            <p><a href=\"http://a6910565d379:4040\">Spark UI</a></p>\n",
              "\n",
              "            <dl>\n",
              "              <dt>Version</dt>\n",
              "                <dd><code>v3.2.1</code></dd>\n",
              "              <dt>Master</dt>\n",
              "                <dd><code>local[*]</code></dd>\n",
              "              <dt>AppName</dt>\n",
              "                <dd><code>MyApp</code></dd>\n",
              "            </dl>\n",
              "        </div>\n",
              "        \n",
              "            </div>\n",
              "        "
            ]
          },
          "metadata": {},
          "execution_count": 5
        }
      ]
    },
    {
      "cell_type": "code",
      "source": [
        "#spark.stop()"
      ],
      "metadata": {
        "id": "lNk7dRFywBFb"
      },
      "execution_count": null,
      "outputs": []
    },
    {
      "cell_type": "code",
      "source": [
        "!wget https://storage.googleapis.com/bigdata_training/Titanic.parquet"
      ],
      "metadata": {
        "colab": {
          "base_uri": "https://localhost:8080/"
        },
        "id": "z80kjlGo46Se",
        "outputId": "d3dfb3d5-c7e4-4a47-84ef-9ea073784103"
      },
      "execution_count": 6,
      "outputs": [
        {
          "output_type": "stream",
          "name": "stdout",
          "text": [
            "--2024-03-16 19:06:28--  https://storage.googleapis.com/bigdata_training/Titanic.parquet\n",
            "Resolving storage.googleapis.com (storage.googleapis.com)... 173.194.79.207, 108.177.96.207, 108.177.119.207, ...\n",
            "Connecting to storage.googleapis.com (storage.googleapis.com)|173.194.79.207|:443... connected.\n",
            "HTTP request sent, awaiting response... 200 OK\n",
            "Length: 40013 (39K) [application/octet-stream]\n",
            "Saving to: ‘Titanic.parquet’\n",
            "\n",
            "\rTitanic.parquet       0%[                    ]       0  --.-KB/s               \rTitanic.parquet     100%[===================>]  39.08K  --.-KB/s    in 0.001s  \n",
            "\n",
            "2024-03-16 19:06:28 (33.8 MB/s) - ‘Titanic.parquet’ saved [40013/40013]\n",
            "\n"
          ]
        }
      ]
    },
    {
      "cell_type": "code",
      "source": [
        "df_passengers = spark.read.parquet(\"Titanic.parquet\")\n",
        "df_passengers.show()"
      ],
      "metadata": {
        "colab": {
          "base_uri": "https://localhost:8080/"
        },
        "id": "R5O8pGvXsQJi",
        "outputId": "9f2d255e-86a1-4d34-dee1-80b2019a8f29"
      },
      "execution_count": 7,
      "outputs": [
        {
          "output_type": "stream",
          "name": "stdout",
          "text": [
            "+-----------+--------+------+--------------------+------+----+-----+-----+----------------+-------+-----+--------+\n",
            "|PassengerId|Survived|Pclass|                Name|   Sex| Age|SibSp|Parch|          Ticket|   Fare|Cabin|Embarked|\n",
            "+-----------+--------+------+--------------------+------+----+-----+-----+----------------+-------+-----+--------+\n",
            "|          1|       0|     3|Braund, Mr. Owen ...|  male|22.0|    1|    0|       A/5 21171|   7.25| null|       S|\n",
            "|          2|       1|     1|Cumings, Mrs. Joh...|female|38.0|    1|    0|        PC 17599|71.2833|  C85|       C|\n",
            "|          3|       1|     3|Heikkinen, Miss. ...|female|26.0|    0|    0|STON/O2. 3101282|  7.925| null|       S|\n",
            "|          4|       1|     1|Futrelle, Mrs. Ja...|female|35.0|    1|    0|          113803|   53.1| C123|       S|\n",
            "|          5|       0|     3|Allen, Mr. Willia...|  male|35.0|    0|    0|          373450|   8.05| null|       S|\n",
            "|          6|       0|     3|    Moran, Mr. James|  male|null|    0|    0|          330877| 8.4583| null|       Q|\n",
            "|          7|       0|     1|McCarthy, Mr. Tim...|  male|54.0|    0|    0|           17463|51.8625|  E46|       S|\n",
            "|          8|       0|     3|Palsson, Master. ...|  male| 2.0|    3|    1|          349909| 21.075| null|       S|\n",
            "|          9|       1|     3|Johnson, Mrs. Osc...|female|27.0|    0|    2|          347742|11.1333| null|       S|\n",
            "|         10|       1|     2|Nasser, Mrs. Nich...|female|14.0|    1|    0|          237736|30.0708| null|       C|\n",
            "|         11|       1|     3|Sandstrom, Miss. ...|female| 4.0|    1|    1|         PP 9549|   16.7|   G6|       S|\n",
            "|         12|       1|     1|Bonnell, Miss. El...|female|58.0|    0|    0|          113783|  26.55| C103|       S|\n",
            "|         13|       0|     3|Saundercock, Mr. ...|  male|20.0|    0|    0|       A/5. 2151|   8.05| null|       S|\n",
            "|         14|       0|     3|Andersson, Mr. An...|  male|39.0|    1|    5|          347082| 31.275| null|       S|\n",
            "|         15|       0|     3|Vestrom, Miss. Hu...|female|14.0|    0|    0|          350406| 7.8542| null|       S|\n",
            "|         16|       1|     2|Hewlett, Mrs. (Ma...|female|55.0|    0|    0|          248706|   16.0| null|       S|\n",
            "|         17|       0|     3|Rice, Master. Eugene|  male| 2.0|    4|    1|          382652| 29.125| null|       Q|\n",
            "|         18|       1|     2|Williams, Mr. Cha...|  male|null|    0|    0|          244373|   13.0| null|       S|\n",
            "|         19|       0|     3|Vander Planke, Mr...|female|31.0|    1|    0|          345763|   18.0| null|       S|\n",
            "|         20|       1|     3|Masselmani, Mrs. ...|female|null|    0|    0|            2649|  7.225| null|       C|\n",
            "+-----------+--------+------+--------------------+------+----+-----+-----+----------------+-------+-----+--------+\n",
            "only showing top 20 rows\n",
            "\n"
          ]
        }
      ]
    },
    {
      "cell_type": "code",
      "source": [
        "#Gemiden kurtulma durumuna göre ödenen en yüksek ve en düşük bilet fiyatını bulunuz.\n",
        "df_passengers.groupBy(\"Survived\").agg(max(col(\"Fare\")),min(col(\"Fare\"))).show()\n"
      ],
      "metadata": {
        "id": "LirhBcWy5lVI",
        "colab": {
          "base_uri": "https://localhost:8080/"
        },
        "outputId": "681483e8-57f3-4193-b024-a827c66e6906"
      },
      "execution_count": 9,
      "outputs": [
        {
          "output_type": "stream",
          "name": "stdout",
          "text": [
            "+--------+---------+---------+\n",
            "|Survived|max(Fare)|min(Fare)|\n",
            "+--------+---------+---------+\n",
            "|       0|    263.0|      0.0|\n",
            "|       1| 512.3292|      0.0|\n",
            "+--------+---------+---------+\n",
            "\n"
          ]
        }
      ]
    },
    {
      "cell_type": "code",
      "source": [
        "#Yolcuların(18 yaş ve altı çocuklar hariç) cinsiyete göre ortalama yaşlarını bulunuz.\n",
        "df_passengers.where(col(\"Age\")>18).groupBy(\"Sex\").agg(avg(col(\"Age\"))).show()"
      ],
      "metadata": {
        "id": "E45wiWDy6K6f",
        "colab": {
          "base_uri": "https://localhost:8080/"
        },
        "outputId": "4bc0f59e-a0ff-4e5a-fc94-dd2c31e10ef0"
      },
      "execution_count": 10,
      "outputs": [
        {
          "output_type": "stream",
          "name": "stdout",
          "text": [
            "+------+------------------+\n",
            "|   Sex|          avg(Age)|\n",
            "+------+------------------+\n",
            "|female| 33.90673575129534|\n",
            "|  male|34.480366492146594|\n",
            "+------+------------------+\n",
            "\n"
          ]
        }
      ]
    },
    {
      "cell_type": "code",
      "source": [
        "#Aynı kabinde yolculuk yapan erkek ve kadınların eşleşmesi yapılması için aşağıdaki sorgu yazılmışmış fakat sorguda ufak bir eksiklik var, eksik olan parçayı tamamlayınız.\n",
        "df_passengers.alias(\"m\") \\\n",
        ".join(df_passengers.alias(\"f\"),\n",
        "      on=((col(\"m.Cabin\")==col(\"f.Cabin\"))),\n",
        "      how=\"inner\") \\\n",
        ".where(col(\"m.Sex\")==\"male\") \\\n",
        ".where(col(\"f.Sex\")==\"female\") \\\n",
        ".select(col(\"m.Cabin\"),col(\"f.Name\").alias(\"Erkek Yolcu\"),col(\"m.Name\").alias(\"Kadın Yolcu\")).show(100,200)"
      ],
      "metadata": {
        "id": "ZA6C1-MD7B25",
        "colab": {
          "base_uri": "https://localhost:8080/"
        },
        "outputId": "b8d6bc20-5413-4fec-b4c0-45f9965485a4"
      },
      "execution_count": 11,
      "outputs": [
        {
          "output_type": "stream",
          "name": "stdout",
          "text": [
            "+-----------+----------------------------------------------------------------------------------+------------------------------------------+\n",
            "|      Cabin|                                                                       Erkek Yolcu|                               Kadın Yolcu|\n",
            "+-----------+----------------------------------------------------------------------------------+------------------------------------------+\n",
            "|C23 C25 C27|                                                    Fortune, Miss. Alice Elizabeth|            Fortune, Mr. Charles Alexander|\n",
            "|C23 C25 C27|                                                        Fortune, Miss. Mabel Helen|            Fortune, Mr. Charles Alexander|\n",
            "|        C83|                                      Harris, Mrs. Henry Birkhardt (Irene Wallach)|               Harris, Mr. Henry Birkhardt|\n",
            "|    B58 B60|                                   Baxter, Mrs. James (Helene DeLaudeniere Chaput)|                  Baxter, Mr. Quigg Edmond|\n",
            "|       C123|                                      Futrelle, Mrs. Jacques Heath (Lily May Peel)|               Futrelle, Mr. Jacques Heath|\n",
            "|         F4|                                                       Becker, Miss. Marion Louise|                 Becker, Master. Richard F|\n",
            "|        C93|                                   Hoyt, Mrs. Frederick Maxfield (Jane Anne Forby)|              Hoyt, Mr. Frederick Maxfield|\n",
            "|        C78|                                                            Minahan, Miss. Daisy E|               Minahan, Dr. William Edward|\n",
            "|        D35|                                  Beckwith, Mrs. Richard Leonard (Sallie Monypeny)|             Beckwith, Mr. Richard Leonard|\n",
            "|        E67|                                            Taussig, Mrs. Emil (Tillie Mandelbaum)|                         Taussig, Mr. Emil|\n",
            "|          D|                                      Jerwan, Mrs. Amin S (Marie Marthe Thuillard)|                    Levy, Mr. Rene Jacques|\n",
            "|          D|                                                           Ball, Mrs. (Ada E Hall)|                    Levy, Mr. Rene Jacques|\n",
            "|    C22 C26|                                   Allison, Mrs. Hudson J C (Bessie Waldo Daniels)|            Allison, Master. Hudson Trevor|\n",
            "|    C22 C26|                                                      Allison, Miss. Helen Loraine|            Allison, Master. Hudson Trevor|\n",
            "|         C2|                                                 Pears, Mrs. Thomas (Edith Wearne)|                 Pears, Mr. Thomas Clinton|\n",
            "|    B96 B98|                                         Carter, Mrs. William Ernest (Lucile Polk)|                Carter, Mr. William Ernest|\n",
            "|    B96 B98|                                                         Carter, Miss. Lucile Polk|                Carter, Mr. William Ernest|\n",
            "|        E44|                                         Silvey, Mrs. William Baird (Alice Munger)|                 Silvey, Mr. William Baird|\n",
            "|C23 C25 C27|                                                    Fortune, Miss. Alice Elizabeth|                         Fortune, Mr. Mark|\n",
            "|C23 C25 C27|                                                        Fortune, Miss. Mabel Helen|                         Fortune, Mr. Mark|\n",
            "|        C92|                                      Goldenberg, Mrs. Samuel L (Edwiga Grabowska)|                  Goldenberg, Mr. Samuel L|\n",
            "|        B49|                                           Bishop, Mrs. Dickinson H (Helen Walton)|                   Bishop, Mr. Dickinson H|\n",
            "|        C65|Penasco y Castellana, Mrs. Victor de Satode (Maria Josefa Perez de Soto y Vallejo)|Penasco y Castellana, Mr. Victor de Satode|\n",
            "|        D33|                                          Harper, Mrs. Henry Sleeper (Myna Haxtun)|                 Harper, Mr. Henry Sleeper|\n",
            "|        B20|                                         Dick, Mrs. Albert Adrian (Vera Gillespie)|                   Dick, Mr. Albert Adrian|\n",
            "|        C68|                              Thayer, Mrs. John Borland (Marian Longstreth Morris)|                  Thayer, Mr. John Borland|\n",
            "|       C126|                                 Taylor, Mrs. Elmer Zebley (Juliet Cummins Wright)|                  Taylor, Mr. Elmer Zebley|\n",
            "|         E8|                                    Chambers, Mrs. Norman Campbell (Bertha Griggs)|             Chambers, Mr. Norman Campbell|\n",
            "|        B22|                                                           Crosby, Miss. Harriet R|              Crosby, Capt. Edward Gifford|\n",
            "|       E121|                                                                Moor, Mrs. (Beila)|                       Moor, Master. Meier|\n",
            "|    B96 B98|                                         Carter, Mrs. William Ernest (Lucile Polk)|       Carter, Master. William Thornton II|\n",
            "|    B96 B98|                                                         Carter, Miss. Lucile Polk|       Carter, Master. William Thornton II|\n",
            "+-----------+----------------------------------------------------------------------------------+------------------------------------------+\n",
            "\n"
          ]
        }
      ]
    },
    {
      "cell_type": "code",
      "source": [
        "#veriye yolcunun yaşına göre belirlenecek yeni bir kolon eklenmek isteniyor(AgeCategory). Kolon içeriğinde;\n",
        "#0-10 yaş arası yolcular -> Çocuk\n",
        "#11-18 yaş arası yolcular -> Genç\n",
        "#19 ve üstü yolcular -> Yetişkin\n",
        "#bilgisi yazılması isteniyor. Bu yeni kolonu ekleyiniz.\n",
        "\n",
        "df_passengers.withColumn(\"AgeCategory\",\\\n",
        "                         when((col(\"Age\")>=0) & (col(\"Age\")<=10), lit(\"Child\"))\\\n",
        "                         .when((col(\"Age\")>=11) & (col(\"Age\")<=18), lit(\"Youth\"))\\\n",
        "                         .when(col(\"Age\")>18, lit(\"Adult\"))\\\n",
        "                         .otherwise(lit(\"Unknown\"))).show()"
      ],
      "metadata": {
        "id": "djyxza0s9II3",
        "colab": {
          "base_uri": "https://localhost:8080/"
        },
        "outputId": "96a78afb-2401-4fd7-f1f5-0fcd7b83d024"
      },
      "execution_count": 12,
      "outputs": [
        {
          "output_type": "stream",
          "name": "stdout",
          "text": [
            "+-----------+--------+------+--------------------+------+----+-----+-----+----------------+-------+-----+--------+-----------+\n",
            "|PassengerId|Survived|Pclass|                Name|   Sex| Age|SibSp|Parch|          Ticket|   Fare|Cabin|Embarked|AgeCategory|\n",
            "+-----------+--------+------+--------------------+------+----+-----+-----+----------------+-------+-----+--------+-----------+\n",
            "|          1|       0|     3|Braund, Mr. Owen ...|  male|22.0|    1|    0|       A/5 21171|   7.25| null|       S|      Adult|\n",
            "|          2|       1|     1|Cumings, Mrs. Joh...|female|38.0|    1|    0|        PC 17599|71.2833|  C85|       C|      Adult|\n",
            "|          3|       1|     3|Heikkinen, Miss. ...|female|26.0|    0|    0|STON/O2. 3101282|  7.925| null|       S|      Adult|\n",
            "|          4|       1|     1|Futrelle, Mrs. Ja...|female|35.0|    1|    0|          113803|   53.1| C123|       S|      Adult|\n",
            "|          5|       0|     3|Allen, Mr. Willia...|  male|35.0|    0|    0|          373450|   8.05| null|       S|      Adult|\n",
            "|          6|       0|     3|    Moran, Mr. James|  male|null|    0|    0|          330877| 8.4583| null|       Q|    Unknown|\n",
            "|          7|       0|     1|McCarthy, Mr. Tim...|  male|54.0|    0|    0|           17463|51.8625|  E46|       S|      Adult|\n",
            "|          8|       0|     3|Palsson, Master. ...|  male| 2.0|    3|    1|          349909| 21.075| null|       S|      Child|\n",
            "|          9|       1|     3|Johnson, Mrs. Osc...|female|27.0|    0|    2|          347742|11.1333| null|       S|      Adult|\n",
            "|         10|       1|     2|Nasser, Mrs. Nich...|female|14.0|    1|    0|          237736|30.0708| null|       C|      Youth|\n",
            "|         11|       1|     3|Sandstrom, Miss. ...|female| 4.0|    1|    1|         PP 9549|   16.7|   G6|       S|      Child|\n",
            "|         12|       1|     1|Bonnell, Miss. El...|female|58.0|    0|    0|          113783|  26.55| C103|       S|      Adult|\n",
            "|         13|       0|     3|Saundercock, Mr. ...|  male|20.0|    0|    0|       A/5. 2151|   8.05| null|       S|      Adult|\n",
            "|         14|       0|     3|Andersson, Mr. An...|  male|39.0|    1|    5|          347082| 31.275| null|       S|      Adult|\n",
            "|         15|       0|     3|Vestrom, Miss. Hu...|female|14.0|    0|    0|          350406| 7.8542| null|       S|      Youth|\n",
            "|         16|       1|     2|Hewlett, Mrs. (Ma...|female|55.0|    0|    0|          248706|   16.0| null|       S|      Adult|\n",
            "|         17|       0|     3|Rice, Master. Eugene|  male| 2.0|    4|    1|          382652| 29.125| null|       Q|      Child|\n",
            "|         18|       1|     2|Williams, Mr. Cha...|  male|null|    0|    0|          244373|   13.0| null|       S|    Unknown|\n",
            "|         19|       0|     3|Vander Planke, Mr...|female|31.0|    1|    0|          345763|   18.0| null|       S|      Adult|\n",
            "|         20|       1|     3|Masselmani, Mrs. ...|female|null|    0|    0|            2649|  7.225| null|       C|    Unknown|\n",
            "+-----------+--------+------+--------------------+------+----+-----+-----+----------------+-------+-----+--------+-----------+\n",
            "only showing top 20 rows\n",
            "\n"
          ]
        }
      ]
    },
    {
      "cell_type": "code",
      "source": [
        "#spark'ta bir dataframe sorgu içnide de kullanılabilir. AgeCategory(bir üst sorunın çıktısı olan kolon) kolonuna göre yolcu sayısını veren SQL sorgunu düzenleyiniz.\n",
        "df_passengers.createOrReplaceTempView(\"passengers\")\n",
        "spark.sql(\"SELECT AgeCategory, COUNT(*) as PassengersByAge FROM(  \\\n",
        "      SELECT  \\\n",
        "        CASE  \\\n",
        "            when Age >= 0 AND Age <= 10 then 'Çocuk'  \\\n",
        "            when Age >= 11 AND Age <= 18 then 'Genç'  \\\n",
        "            when Age > 18 then 'Yetişkin'  \\\n",
        "            else 'Unknown'  \\\n",
        "        END AS AgeCategory  \\\n",
        "    FROM passengers)  \\\n",
        "    GROUP BY AgeCategory\").show()"
      ],
      "metadata": {
        "colab": {
          "base_uri": "https://localhost:8080/"
        },
        "id": "GmVuw1y2-bx_",
        "outputId": "453f11d4-989a-47d0-ca59-1489c4c60800"
      },
      "execution_count": 14,
      "outputs": [
        {
          "output_type": "stream",
          "name": "stdout",
          "text": [
            "+-----------+---------------+\n",
            "|AgeCategory|PassengersByAge|\n",
            "+-----------+---------------+\n",
            "|    Unknown|            177|\n",
            "|       Genç|             75|\n",
            "|      Çocuk|             64|\n",
            "|   Yetişkin|            575|\n",
            "+-----------+---------------+\n",
            "\n"
          ]
        }
      ]
    }
  ]
}